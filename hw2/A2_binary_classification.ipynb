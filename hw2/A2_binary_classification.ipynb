{
  "cells": [
    {
      "cell_type": "markdown",
      "metadata": {
        "id": "hLcWRu-jp7gM"
      },
      "source": [
        "# MIS 583 Assignment 2: Binary Classification"
      ]
    },
    {
      "cell_type": "markdown",
      "metadata": {
        "id": "oSwr9MgZogRZ"
      },
      "source": [
        "Before we start, please put your name and ID in following format  \n",
        ": LASTNAME Firstname, ?000000000   //   e.g.) 李晨愷, M114020035\n",
        "\n",
        "**Your Answer:**   \n",
        "Hi I'm 陳文薇, B094020007\n"
      ]
    },
    {
      "cell_type": "markdown",
      "metadata": {
        "id": "xnqV2-Wd1AVu"
      },
      "source": [
        "This assignment aims to work you through the core concepts in implementation a binary classifier. We'll start from implementing a logistic regression from scratch by our own (Part 1) and then implementing it using PyTorch APIs (Part 2)."
      ]
    },
    {
      "cell_type": "markdown",
      "metadata": {
        "id": "B_MoQiztpxcK"
      },
      "source": [
        "## Logistic Regression\n",
        "\n",
        "Logistic regression predicts the probability that an event could occur and typically is used to perform binary classification.\n",
        "\n",
        "In the first two parts of this assignment, we will cover:\n",
        "* PyTorch: Tensor operations\n",
        "* Machine Learning: Data preprocessing, logistic Regression, gradient descent,\n",
        "\n",
        "This assignment will walk you through implementing a logistic regression model that classifies whether a person is rich or poor using the UCI adult income dataset in PyTorch.\n",
        "\n",
        "* In part 1, you will **implement a logistic regression from scratch using PyTorch tensors and tensor operations**. This will help you gain a better understanding of the theoretical concepts discussed in class.\n",
        "* In part 2, you will **use PyTorch nn.Module to build a logsitic regression** so that you will get familiar with PyTorch APIs.\n",
        "\n",
        "Note that **You ARE NOT allowed to remove any assertions.**"
      ]
    },
    {
      "cell_type": "markdown",
      "metadata": {
        "id": "giUId1Naqacs"
      },
      "source": [
        "##  Versions of used packages\n",
        "\n",
        "We will check PyTorch version to make sure everything work properly.\n",
        "\n",
        "I use `python 3.9.5`, `torch==1.8.2` and `torchvision==0.9.2`"
      ]
    },
    {
      "cell_type": "code",
      "execution_count": null,
      "metadata": {
        "id": "Vuw-gNvjqcYe",
        "colab": {
          "base_uri": "https://localhost:8080/"
        },
        "outputId": "61c70d9c-1616-4471-e912-d57d6127b83f"
      },
      "outputs": [
        {
          "output_type": "stream",
          "name": "stdout",
          "text": [
            "Python 3.10.12\n",
            "torch 2.0.1+cu118\n",
            "torchvision 0.15.2+cu118\n"
          ]
        }
      ],
      "source": [
        "!python --version\n",
        "import torch\n",
        "import torchvision\n",
        "print('torch', torch.__version__)\n",
        "print('torchvision', torchvision.__version__)"
      ]
    },
    {
      "cell_type": "markdown",
      "metadata": {
        "id": "OhdbdJOsrbxL"
      },
      "source": [
        "## Preparing Data"
      ]
    },
    {
      "cell_type": "markdown",
      "metadata": {
        "id": "gVbtJxl6rc3t"
      },
      "source": [
        "### Loading Data"
      ]
    },
    {
      "cell_type": "markdown",
      "metadata": {
        "id": "nPoSgD83teTQ"
      },
      "source": [
        "We use [adult income](https://www.kaggle.com/wenruliu/adult-income-dataset) dataset from UCI machine learning repository.  \n",
        "\n",
        "**Abstract**  \n",
        "\n",
        "Given an individual’s education level, age, gender, occupation, and etc, we want to predict his or her income level.   \n",
        "\n",
        "**Metadata**  \n",
        "Number of attributes: 14  \n",
        "- income: >50K, <=50K\n",
        "- age: continuous.\n",
        "- workclass: Private, Self-emp-not-inc, Self-emp-inc, Federal-gov, Local-gov, State-gov, Without-pay, Never-worked.\n",
        "- fnlwgt: continuous.\n",
        "- education: Bachelors, Some-college, 11th, HS-grad, Prof-school, Assoc-acdm, Assoc-voc, 9th, 7th-8th, 12th, Masters, 1st-4th, 10th, Doctorate, 5th-6th, Preschool.\n",
        "- education-num: continuous.\n",
        "- marital-status: Married-civ-spouse, Divorced, Never-married, Separated, Widowed, Married-spouse-absent, Married-AF-spouse.\n",
        "- occupation: Tech-support, Craft-repair, Other-service, Sales, Exec-managerial, Prof-specialty, Handlers-cleaners, Machine-op-inspct, Adm-clerical, Farming-fishing, Transport-moving, Priv-house-serv, Protective-serv, Armed-Forces.\n",
        "- relationship: Wife, Own-child, Husband, Not-in-family, Other-relative, Unmarried.\n",
        "- race: White, Asian-Pac-Islander, Amer-Indian-Eskimo, Other, Black.\n",
        "- sex: Female, Male.\n",
        "- capital-gain: continuous.\n",
        "- capital-loss: continuous.\n",
        "- hours-per-week: continuous.\n",
        "- native-country: United-States, Cambodia, England, Puerto-Rico, Canada, Germany, Outlying-US(Guam-USVI-etc), India, Japan, Greece, South, China, Cuba, Iran, Honduras, Philippines, Italy, Poland, Jamaica, Vietnam, Mexico, Portugal, Ireland, France, Dominican-Republic, Laos, Ecuador, Taiwan, Haiti, Columbia, Hungary, Guatemala, Nicaragua, Scotland, Thailand, Yugoslavia, El-Salvador, Trinadad&Tobago, Peru, Hong, Holand-Netherlands."
      ]
    },
    {
      "cell_type": "code",
      "execution_count": null,
      "metadata": {
        "colab": {
          "base_uri": "https://localhost:8080/"
        },
        "id": "FhKEp8b1r3V-",
        "outputId": "122cc1f0-ed19-441d-dd01-c11865f94c41"
      },
      "outputs": [
        {
          "output_type": "stream",
          "name": "stdout",
          "text": [
            "Archive:  assign2_data.zip\n",
            "   creating: data/\n",
            "  inflating: __MACOSX/._data         \n",
            "  inflating: data/X_train.csv        \n",
            "  inflating: __MACOSX/data/._X_train.csv  \n",
            "  inflating: data/train.csv          \n",
            "  inflating: __MACOSX/data/._train.csv  \n",
            "  inflating: data/Y_train.csv        \n",
            "  inflating: __MACOSX/data/._Y_train.csv  \n",
            "  inflating: data/Y_test.csv         \n",
            "  inflating: __MACOSX/data/._Y_test.csv  \n",
            "  inflating: data/X_test.csv         \n",
            "  inflating: __MACOSX/data/._X_test.csv  \n"
          ]
        }
      ],
      "source": [
        "# Download it from cu and upload to colab\n",
        "\n",
        "# or from the Dropbox\n",
        "!wget -q -N https://www.dropbox.com/s/1jqeipgof7tukln/assign2_data.zip\n",
        "!unzip -n assign2_data.zip"
      ]
    },
    {
      "cell_type": "markdown",
      "metadata": {
        "id": "cqO8DiB6VRQZ"
      },
      "source": [
        "There are 4 csv files.\n",
        "\n",
        "\n",
        "* X_train: training data\n",
        "* X_test: training data labels\n",
        "* Y_train: test data\n",
        "* Y_test: test data labels.\n",
        "\n",
        "Each row in X has 106 fields.\n",
        "Each row Y represents the true label of 0 (poor) and 1 (rich).  \n",
        "\n",
        "Or you can load train.csv raw data and do your pre-processing."
      ]
    },
    {
      "cell_type": "code",
      "execution_count": null,
      "metadata": {
        "id": "TRq8vX4kn24u",
        "colab": {
          "base_uri": "https://localhost:8080/",
          "height": 273
        },
        "outputId": "a18e137c-d23f-49ea-e4c7-13143b897f64"
      },
      "outputs": [
        {
          "output_type": "execute_result",
          "data": {
            "text/plain": [
              "   age  fnlwgt  sex  capital_gain  capital_loss  hours_per_week   Federal-gov  \\\n",
              "0   39   77516    1          2174             0              40             0   \n",
              "1   50   83311    1             0             0              13             0   \n",
              "2   38  215646    1             0             0              40             0   \n",
              "3   53  234721    1             0             0              40             0   \n",
              "4   28  338409    0             0             0              40             0   \n",
              "\n",
              "    Local-gov   Never-worked   Private  ...   Puerto-Rico   Scotland   South  \\\n",
              "0           0              0         0  ...             0          0       0   \n",
              "1           0              0         0  ...             0          0       0   \n",
              "2           0              0         1  ...             0          0       0   \n",
              "3           0              0         1  ...             0          0       0   \n",
              "4           0              0         1  ...             0          0       0   \n",
              "\n",
              "    Taiwan   Thailand   Trinadad&Tobago   United-States   Vietnam  \\\n",
              "0        0          0                 0               1         0   \n",
              "1        0          0                 0               1         0   \n",
              "2        0          0                 0               1         0   \n",
              "3        0          0                 0               1         0   \n",
              "4        0          0                 0               0         0   \n",
              "\n",
              "    Yugoslavia  ?_native_country  \n",
              "0            0                 0  \n",
              "1            0                 0  \n",
              "2            0                 0  \n",
              "3            0                 0  \n",
              "4            0                 0  \n",
              "\n",
              "[5 rows x 106 columns]"
            ],
            "text/html": [
              "\n",
              "  <div id=\"df-74f7f1db-5c3a-4c7d-b6cb-94e84ec01197\" class=\"colab-df-container\">\n",
              "    <div>\n",
              "<style scoped>\n",
              "    .dataframe tbody tr th:only-of-type {\n",
              "        vertical-align: middle;\n",
              "    }\n",
              "\n",
              "    .dataframe tbody tr th {\n",
              "        vertical-align: top;\n",
              "    }\n",
              "\n",
              "    .dataframe thead th {\n",
              "        text-align: right;\n",
              "    }\n",
              "</style>\n",
              "<table border=\"1\" class=\"dataframe\">\n",
              "  <thead>\n",
              "    <tr style=\"text-align: right;\">\n",
              "      <th></th>\n",
              "      <th>age</th>\n",
              "      <th>fnlwgt</th>\n",
              "      <th>sex</th>\n",
              "      <th>capital_gain</th>\n",
              "      <th>capital_loss</th>\n",
              "      <th>hours_per_week</th>\n",
              "      <th>Federal-gov</th>\n",
              "      <th>Local-gov</th>\n",
              "      <th>Never-worked</th>\n",
              "      <th>Private</th>\n",
              "      <th>...</th>\n",
              "      <th>Puerto-Rico</th>\n",
              "      <th>Scotland</th>\n",
              "      <th>South</th>\n",
              "      <th>Taiwan</th>\n",
              "      <th>Thailand</th>\n",
              "      <th>Trinadad&amp;Tobago</th>\n",
              "      <th>United-States</th>\n",
              "      <th>Vietnam</th>\n",
              "      <th>Yugoslavia</th>\n",
              "      <th>?_native_country</th>\n",
              "    </tr>\n",
              "  </thead>\n",
              "  <tbody>\n",
              "    <tr>\n",
              "      <th>0</th>\n",
              "      <td>39</td>\n",
              "      <td>77516</td>\n",
              "      <td>1</td>\n",
              "      <td>2174</td>\n",
              "      <td>0</td>\n",
              "      <td>40</td>\n",
              "      <td>0</td>\n",
              "      <td>0</td>\n",
              "      <td>0</td>\n",
              "      <td>0</td>\n",
              "      <td>...</td>\n",
              "      <td>0</td>\n",
              "      <td>0</td>\n",
              "      <td>0</td>\n",
              "      <td>0</td>\n",
              "      <td>0</td>\n",
              "      <td>0</td>\n",
              "      <td>1</td>\n",
              "      <td>0</td>\n",
              "      <td>0</td>\n",
              "      <td>0</td>\n",
              "    </tr>\n",
              "    <tr>\n",
              "      <th>1</th>\n",
              "      <td>50</td>\n",
              "      <td>83311</td>\n",
              "      <td>1</td>\n",
              "      <td>0</td>\n",
              "      <td>0</td>\n",
              "      <td>13</td>\n",
              "      <td>0</td>\n",
              "      <td>0</td>\n",
              "      <td>0</td>\n",
              "      <td>0</td>\n",
              "      <td>...</td>\n",
              "      <td>0</td>\n",
              "      <td>0</td>\n",
              "      <td>0</td>\n",
              "      <td>0</td>\n",
              "      <td>0</td>\n",
              "      <td>0</td>\n",
              "      <td>1</td>\n",
              "      <td>0</td>\n",
              "      <td>0</td>\n",
              "      <td>0</td>\n",
              "    </tr>\n",
              "    <tr>\n",
              "      <th>2</th>\n",
              "      <td>38</td>\n",
              "      <td>215646</td>\n",
              "      <td>1</td>\n",
              "      <td>0</td>\n",
              "      <td>0</td>\n",
              "      <td>40</td>\n",
              "      <td>0</td>\n",
              "      <td>0</td>\n",
              "      <td>0</td>\n",
              "      <td>1</td>\n",
              "      <td>...</td>\n",
              "      <td>0</td>\n",
              "      <td>0</td>\n",
              "      <td>0</td>\n",
              "      <td>0</td>\n",
              "      <td>0</td>\n",
              "      <td>0</td>\n",
              "      <td>1</td>\n",
              "      <td>0</td>\n",
              "      <td>0</td>\n",
              "      <td>0</td>\n",
              "    </tr>\n",
              "    <tr>\n",
              "      <th>3</th>\n",
              "      <td>53</td>\n",
              "      <td>234721</td>\n",
              "      <td>1</td>\n",
              "      <td>0</td>\n",
              "      <td>0</td>\n",
              "      <td>40</td>\n",
              "      <td>0</td>\n",
              "      <td>0</td>\n",
              "      <td>0</td>\n",
              "      <td>1</td>\n",
              "      <td>...</td>\n",
              "      <td>0</td>\n",
              "      <td>0</td>\n",
              "      <td>0</td>\n",
              "      <td>0</td>\n",
              "      <td>0</td>\n",
              "      <td>0</td>\n",
              "      <td>1</td>\n",
              "      <td>0</td>\n",
              "      <td>0</td>\n",
              "      <td>0</td>\n",
              "    </tr>\n",
              "    <tr>\n",
              "      <th>4</th>\n",
              "      <td>28</td>\n",
              "      <td>338409</td>\n",
              "      <td>0</td>\n",
              "      <td>0</td>\n",
              "      <td>0</td>\n",
              "      <td>40</td>\n",
              "      <td>0</td>\n",
              "      <td>0</td>\n",
              "      <td>0</td>\n",
              "      <td>1</td>\n",
              "      <td>...</td>\n",
              "      <td>0</td>\n",
              "      <td>0</td>\n",
              "      <td>0</td>\n",
              "      <td>0</td>\n",
              "      <td>0</td>\n",
              "      <td>0</td>\n",
              "      <td>0</td>\n",
              "      <td>0</td>\n",
              "      <td>0</td>\n",
              "      <td>0</td>\n",
              "    </tr>\n",
              "  </tbody>\n",
              "</table>\n",
              "<p>5 rows × 106 columns</p>\n",
              "</div>\n",
              "    <div class=\"colab-df-buttons\">\n",
              "\n",
              "  <div class=\"colab-df-container\">\n",
              "    <button class=\"colab-df-convert\" onclick=\"convertToInteractive('df-74f7f1db-5c3a-4c7d-b6cb-94e84ec01197')\"\n",
              "            title=\"Convert this dataframe to an interactive table.\"\n",
              "            style=\"display:none;\">\n",
              "\n",
              "  <svg xmlns=\"http://www.w3.org/2000/svg\" height=\"24px\" viewBox=\"0 -960 960 960\">\n",
              "    <path d=\"M120-120v-720h720v720H120Zm60-500h600v-160H180v160Zm220 220h160v-160H400v160Zm0 220h160v-160H400v160ZM180-400h160v-160H180v160Zm440 0h160v-160H620v160ZM180-180h160v-160H180v160Zm440 0h160v-160H620v160Z\"/>\n",
              "  </svg>\n",
              "    </button>\n",
              "\n",
              "  <style>\n",
              "    .colab-df-container {\n",
              "      display:flex;\n",
              "      gap: 12px;\n",
              "    }\n",
              "\n",
              "    .colab-df-convert {\n",
              "      background-color: #E8F0FE;\n",
              "      border: none;\n",
              "      border-radius: 50%;\n",
              "      cursor: pointer;\n",
              "      display: none;\n",
              "      fill: #1967D2;\n",
              "      height: 32px;\n",
              "      padding: 0 0 0 0;\n",
              "      width: 32px;\n",
              "    }\n",
              "\n",
              "    .colab-df-convert:hover {\n",
              "      background-color: #E2EBFA;\n",
              "      box-shadow: 0px 1px 2px rgba(60, 64, 67, 0.3), 0px 1px 3px 1px rgba(60, 64, 67, 0.15);\n",
              "      fill: #174EA6;\n",
              "    }\n",
              "\n",
              "    .colab-df-buttons div {\n",
              "      margin-bottom: 4px;\n",
              "    }\n",
              "\n",
              "    [theme=dark] .colab-df-convert {\n",
              "      background-color: #3B4455;\n",
              "      fill: #D2E3FC;\n",
              "    }\n",
              "\n",
              "    [theme=dark] .colab-df-convert:hover {\n",
              "      background-color: #434B5C;\n",
              "      box-shadow: 0px 1px 3px 1px rgba(0, 0, 0, 0.15);\n",
              "      filter: drop-shadow(0px 1px 2px rgba(0, 0, 0, 0.3));\n",
              "      fill: #FFFFFF;\n",
              "    }\n",
              "  </style>\n",
              "\n",
              "    <script>\n",
              "      const buttonEl =\n",
              "        document.querySelector('#df-74f7f1db-5c3a-4c7d-b6cb-94e84ec01197 button.colab-df-convert');\n",
              "      buttonEl.style.display =\n",
              "        google.colab.kernel.accessAllowed ? 'block' : 'none';\n",
              "\n",
              "      async function convertToInteractive(key) {\n",
              "        const element = document.querySelector('#df-74f7f1db-5c3a-4c7d-b6cb-94e84ec01197');\n",
              "        const dataTable =\n",
              "          await google.colab.kernel.invokeFunction('convertToInteractive',\n",
              "                                                    [key], {});\n",
              "        if (!dataTable) return;\n",
              "\n",
              "        const docLinkHtml = 'Like what you see? Visit the ' +\n",
              "          '<a target=\"_blank\" href=https://colab.research.google.com/notebooks/data_table.ipynb>data table notebook</a>'\n",
              "          + ' to learn more about interactive tables.';\n",
              "        element.innerHTML = '';\n",
              "        dataTable['output_type'] = 'display_data';\n",
              "        await google.colab.output.renderOutput(dataTable, element);\n",
              "        const docLink = document.createElement('div');\n",
              "        docLink.innerHTML = docLinkHtml;\n",
              "        element.appendChild(docLink);\n",
              "      }\n",
              "    </script>\n",
              "  </div>\n",
              "\n",
              "\n",
              "<div id=\"df-4532aefe-2bd4-4d2e-846a-04edd6377f61\">\n",
              "  <button class=\"colab-df-quickchart\" onclick=\"quickchart('df-4532aefe-2bd4-4d2e-846a-04edd6377f61')\"\n",
              "            title=\"Suggest charts.\"\n",
              "            style=\"display:none;\">\n",
              "\n",
              "<svg xmlns=\"http://www.w3.org/2000/svg\" height=\"24px\"viewBox=\"0 0 24 24\"\n",
              "     width=\"24px\">\n",
              "    <g>\n",
              "        <path d=\"M19 3H5c-1.1 0-2 .9-2 2v14c0 1.1.9 2 2 2h14c1.1 0 2-.9 2-2V5c0-1.1-.9-2-2-2zM9 17H7v-7h2v7zm4 0h-2V7h2v10zm4 0h-2v-4h2v4z\"/>\n",
              "    </g>\n",
              "</svg>\n",
              "  </button>\n",
              "\n",
              "<style>\n",
              "  .colab-df-quickchart {\n",
              "      --bg-color: #E8F0FE;\n",
              "      --fill-color: #1967D2;\n",
              "      --hover-bg-color: #E2EBFA;\n",
              "      --hover-fill-color: #174EA6;\n",
              "      --disabled-fill-color: #AAA;\n",
              "      --disabled-bg-color: #DDD;\n",
              "  }\n",
              "\n",
              "  [theme=dark] .colab-df-quickchart {\n",
              "      --bg-color: #3B4455;\n",
              "      --fill-color: #D2E3FC;\n",
              "      --hover-bg-color: #434B5C;\n",
              "      --hover-fill-color: #FFFFFF;\n",
              "      --disabled-bg-color: #3B4455;\n",
              "      --disabled-fill-color: #666;\n",
              "  }\n",
              "\n",
              "  .colab-df-quickchart {\n",
              "    background-color: var(--bg-color);\n",
              "    border: none;\n",
              "    border-radius: 50%;\n",
              "    cursor: pointer;\n",
              "    display: none;\n",
              "    fill: var(--fill-color);\n",
              "    height: 32px;\n",
              "    padding: 0;\n",
              "    width: 32px;\n",
              "  }\n",
              "\n",
              "  .colab-df-quickchart:hover {\n",
              "    background-color: var(--hover-bg-color);\n",
              "    box-shadow: 0 1px 2px rgba(60, 64, 67, 0.3), 0 1px 3px 1px rgba(60, 64, 67, 0.15);\n",
              "    fill: var(--button-hover-fill-color);\n",
              "  }\n",
              "\n",
              "  .colab-df-quickchart-complete:disabled,\n",
              "  .colab-df-quickchart-complete:disabled:hover {\n",
              "    background-color: var(--disabled-bg-color);\n",
              "    fill: var(--disabled-fill-color);\n",
              "    box-shadow: none;\n",
              "  }\n",
              "\n",
              "  .colab-df-spinner {\n",
              "    border: 2px solid var(--fill-color);\n",
              "    border-color: transparent;\n",
              "    border-bottom-color: var(--fill-color);\n",
              "    animation:\n",
              "      spin 1s steps(1) infinite;\n",
              "  }\n",
              "\n",
              "  @keyframes spin {\n",
              "    0% {\n",
              "      border-color: transparent;\n",
              "      border-bottom-color: var(--fill-color);\n",
              "      border-left-color: var(--fill-color);\n",
              "    }\n",
              "    20% {\n",
              "      border-color: transparent;\n",
              "      border-left-color: var(--fill-color);\n",
              "      border-top-color: var(--fill-color);\n",
              "    }\n",
              "    30% {\n",
              "      border-color: transparent;\n",
              "      border-left-color: var(--fill-color);\n",
              "      border-top-color: var(--fill-color);\n",
              "      border-right-color: var(--fill-color);\n",
              "    }\n",
              "    40% {\n",
              "      border-color: transparent;\n",
              "      border-right-color: var(--fill-color);\n",
              "      border-top-color: var(--fill-color);\n",
              "    }\n",
              "    60% {\n",
              "      border-color: transparent;\n",
              "      border-right-color: var(--fill-color);\n",
              "    }\n",
              "    80% {\n",
              "      border-color: transparent;\n",
              "      border-right-color: var(--fill-color);\n",
              "      border-bottom-color: var(--fill-color);\n",
              "    }\n",
              "    90% {\n",
              "      border-color: transparent;\n",
              "      border-bottom-color: var(--fill-color);\n",
              "    }\n",
              "  }\n",
              "</style>\n",
              "\n",
              "  <script>\n",
              "    async function quickchart(key) {\n",
              "      const quickchartButtonEl =\n",
              "        document.querySelector('#' + key + ' button');\n",
              "      quickchartButtonEl.disabled = true;  // To prevent multiple clicks.\n",
              "      quickchartButtonEl.classList.add('colab-df-spinner');\n",
              "      try {\n",
              "        const charts = await google.colab.kernel.invokeFunction(\n",
              "            'suggestCharts', [key], {});\n",
              "      } catch (error) {\n",
              "        console.error('Error during call to suggestCharts:', error);\n",
              "      }\n",
              "      quickchartButtonEl.classList.remove('colab-df-spinner');\n",
              "      quickchartButtonEl.classList.add('colab-df-quickchart-complete');\n",
              "    }\n",
              "    (() => {\n",
              "      let quickchartButtonEl =\n",
              "        document.querySelector('#df-4532aefe-2bd4-4d2e-846a-04edd6377f61 button');\n",
              "      quickchartButtonEl.style.display =\n",
              "        google.colab.kernel.accessAllowed ? 'block' : 'none';\n",
              "    })();\n",
              "  </script>\n",
              "</div>\n",
              "    </div>\n",
              "  </div>\n"
            ]
          },
          "metadata": {},
          "execution_count": 3
        }
      ],
      "source": [
        "import numpy as np\n",
        "import pandas as pd\n",
        "\n",
        "# Pre-Processed Version\n",
        "X_train_raw = pd.read_csv('data/X_train.csv')\n",
        "Y_train_raw = pd.read_csv('data/Y_train.csv')\n",
        "X_test_raw = pd.read_csv('data/X_test.csv')\n",
        "Y_test_raw = pd.read_csv('data/Y_test.csv')\n",
        "\n",
        "X_train_raw.head()\n",
        "\n",
        "# Or you can do preprocess by yourself\n",
        "# df = pd.read_csv('data/train.csv')\n",
        "# ...some preprocessing\n",
        "# ...remember split into 4 variables with same name by yourself"
      ]
    },
    {
      "cell_type": "markdown",
      "metadata": {
        "id": "7XvstELNg7wO"
      },
      "source": [
        "You may already notice that there are two datasets.   One is \"training set\", and the other is \"test set\".  \n",
        "The training set is like **homework of model**. A model uses the training set to learn.  \n",
        "The testing set is like **quiz of model**. A learned model is tested on the testing set for evaluating how good a model is.\n",
        "\n"
      ]
    },
    {
      "cell_type": "markdown",
      "metadata": {
        "id": "ckRcWuGlZLYV"
      },
      "source": [
        "### Pre-Processing Data (3 points)"
      ]
    },
    {
      "cell_type": "markdown",
      "metadata": {
        "id": "TGlPZ1Okx1Z0"
      },
      "source": [
        "In a data science process, data cleansing usually cost the most of time.  \n",
        "Dirty data will cause overfitting or make us ignore those important features. Even if you don't have correct cleansing and format, your model can't run anymore."
      ]
    },
    {
      "cell_type": "code",
      "execution_count": null,
      "metadata": {
        "id": "WuuY4McyXrb3",
        "colab": {
          "base_uri": "https://localhost:8080/"
        },
        "outputId": "e27407f1-0fb8-417e-ec8d-a8ca0dacb639"
      },
      "outputs": [
        {
          "output_type": "stream",
          "name": "stdout",
          "text": [
            "the first 5 means are: tensor([3.8582e+01, 1.8978e+05, 6.6921e-01, 1.0776e+03, 8.7304e+01])\n",
            "the first 5 sigma are: tensor([1.3640e+01, 1.0555e+05, 4.7051e-01, 7.3853e+03, 4.0296e+02])\n",
            "Shape of X_train: torch.Size([32561, 106])\n",
            "Shape of X_test: torch.Size([16281, 106])\n",
            "Shape of y_train: torch.Size([32561])\n",
            "Shape of y_test: torch.Size([16281])\n"
          ]
        }
      ],
      "source": [
        "import torch\n",
        "################################################################################\n",
        "# TODO: Implement Standard Deviation Normalization mentioned in class.         #\n",
        "# train_data has shape(n_train, feature_dim)                                   #\n",
        "# test_data has shape(n_test, feature_dim)                                     #\n",
        "# hint: You should compute mean and std using training data, and apply it to   #\n",
        "# test.                                                                        #\n",
        "################################################################################\n",
        "def compute_mu_std(data):\n",
        "    '''\n",
        "    Arguments:\n",
        "    data -- torch.Tesor, contain data with shape(n, feature_dim)\n",
        "\n",
        "    Return:\n",
        "    mu - torch.Tensor, mean value of columns of data with shape(feature_dim)\n",
        "    sigma - torch.Tensor, std value of columns of data with shape(feature_dim)\n",
        "    '''\n",
        "    #source:https://linuxhint.com/pytorch-mean/\n",
        "    #source:https://linuxhint.com/pytorch-std/\n",
        "    mu = torch.mean(data, dim=0)\n",
        "    sigma = torch.std(data, dim=0)\n",
        "    return mu, sigma\n",
        "\n",
        "def standard_normalize(data, mu, std):\n",
        "    '''\n",
        "    Arguments:\n",
        "    data -- torch.Tesor, contain data with shape(n, feature_dim)\n",
        "    mu - torch.Tensor, mean value of columns of data with shape(feature_dim)\n",
        "    sigma - torch.Tensor, std value of columns of data with shape(feature_dim)\n",
        "\n",
        "    Return:\n",
        "    data -- torch.Tensor, normalized data with given mu and sigma\n",
        "    '''\n",
        "    #(x-mu)/std\n",
        "    data = (data-mu)/std\n",
        "    return data\n",
        "\n",
        "# Better not to change code below, except you wanna do your own pre-processing\n",
        "# pandas > (.values) > numpy > (tensor) > torch.tensor\n",
        "X_train = torch.tensor(X_train_raw.values, dtype=torch.float)\n",
        "X_test = torch.tensor(X_test_raw.values, dtype=torch.float)\n",
        "\n",
        "mu, sigma = compute_mu_std(X_train)\n",
        "\n",
        "# output the first 5 values of mu and sigma\n",
        "print('the first 5 means are:', mu[:5])\n",
        "print('the first 5 sigma are:', sigma[:5])\n",
        "\n",
        "f_dim = X_train.shape[1]\n",
        "assert mu.shape == torch.Size([f_dim]), 'Shape of mu is incorrect.'\n",
        "assert sigma.shape == torch.Size([f_dim]), 'Shape of sigma is incorrect.'\n",
        "\n",
        "X_train = standard_normalize(X_train, mu, sigma)\n",
        "X_test = standard_normalize(X_test, mu, sigma)\n",
        "################################################################################\n",
        "#                             END OF YOUR CODE                                 #\n",
        "################################################################################\n",
        "# make shape(n, 1) > shape(n), like [[1, 2, 3]] > [1, 2, 3]\n",
        "Y_train = torch.tensor(Y_train_raw.values).squeeze()\n",
        "Y_test = torch.tensor(Y_test_raw.values).squeeze()\n",
        "\n",
        "print('Shape of X_train:', X_train.shape)\n",
        "print('Shape of X_test:', X_test.shape)\n",
        "print('Shape of y_train:', Y_train.shape)\n",
        "print('Shape of y_test:', Y_test.shape)\n",
        "\n",
        "\n",
        "assert X_train.dim() == 2\n",
        "assert Y_train.dim() == 1\n",
        "# IF you are writting YOUR pre-processing, the tensors may have different shape.\n",
        "assert X_train.shape == (32561, 106)\n",
        "assert X_test.shape == (16281, 106)"
      ]
    },
    {
      "cell_type": "markdown",
      "metadata": {
        "id": "U5jtBkbJyBym"
      },
      "source": [
        "Because the data used to train a deep model may be large, you could not load the model and the whole dataset into memory (GPU or RAM) at the same time.  \n",
        "So, we split the data into mini-batches."
      ]
    },
    {
      "cell_type": "code",
      "execution_count": null,
      "metadata": {
        "id": "zX1pqlGnn25M",
        "colab": {
          "base_uri": "https://localhost:8080/"
        },
        "outputId": "4150bc3f-487e-4404-c0a7-4dd3b9e91f28"
      },
      "outputs": [
        {
          "output_type": "stream",
          "name": "stdout",
          "text": [
            "(254, 128, 106)\n",
            "(254, 128)\n",
            "(127, 128, 106)\n",
            "(127, 128)\n"
          ]
        }
      ],
      "source": [
        "def make_batch(data, batch_size=128, drop_last=True):\n",
        "    '''\n",
        "    Split dataset into batches.\n",
        "\n",
        "    Arguments:\n",
        "    data -- torch.Tensor, data with shape(n, ...)\n",
        "    batch_size -- int, how many data in your batch\n",
        "    drop_last -- boolean, drop last datas if your remaining data is < batch_size\n",
        "\n",
        "    Return:\n",
        "    out -- torch.Tensor(dtype=torch.float) with shape(n_batch, batch_size, ...)\n",
        "    '''\n",
        "    if drop_last:\n",
        "        n = data.shape[0] // batch_size\n",
        "    else:\n",
        "        n = ((data.shape[0] - 1) // batch_size) + 1\n",
        "    out = np.empty(torch.Size((n, batch_size)) + data.shape[1:], dtype=np.float32)\n",
        "    print(out.shape)\n",
        "    for b in range(len(out)):\n",
        "        out[b] = data[b * batch_size:(b + 1) * batch_size]\n",
        "    return torch.tensor(out)\n",
        "\n",
        "X_train_batch = make_batch(X_train)\n",
        "Y_train_batch = make_batch(Y_train)\n",
        "X_test_batch = make_batch(X_test)\n",
        "Y_test_batch = make_batch(Y_test)"
      ]
    },
    {
      "cell_type": "markdown",
      "metadata": {
        "id": "U4atwzT3aPi3"
      },
      "source": [
        "We have prepared the data.  \n",
        "Let's develop a logistic regression model."
      ]
    },
    {
      "cell_type": "markdown",
      "metadata": {
        "id": "87KYcWknS95z"
      },
      "source": [
        "# Part 1: Implement Logistic Regression from Scratch"
      ]
    },
    {
      "cell_type": "markdown",
      "metadata": {
        "id": "Y_moLy20cEn_"
      },
      "source": [
        "## Utility function"
      ]
    },
    {
      "cell_type": "markdown",
      "metadata": {
        "id": "OH_4NKB9dsZ3"
      },
      "source": [
        "### Activation Function (3 points)"
      ]
    },
    {
      "cell_type": "markdown",
      "metadata": {
        "id": "ifQD-YnvcY3k"
      },
      "source": [
        "Logistic Regression uses a logistic function (or called a sigmoid function) to turn a real value into a probability (a value between zero and one). Below depicts the sigmoid function.\n",
        "\n",
        "**Slide: ch02 p67**\n",
        "\n",
        "![](https://upload.wikimedia.org/wikipedia/commons/thumb/8/88/Logistic-curve.svg/640px-Logistic-curve.svg.png)\n",
        "\n",
        "*Source: wikipedia*"
      ]
    },
    {
      "cell_type": "code",
      "execution_count": null,
      "metadata": {
        "id": "CuzoweBRn25o",
        "colab": {
          "base_uri": "https://localhost:8080/"
        },
        "outputId": "861e8096-b509-410e-d458-2472c8b4dff9"
      },
      "outputs": [
        {
          "output_type": "stream",
          "name": "stdout",
          "text": [
            "sigmoid(0)  = tensor(0.5000)\n",
            "sigmoid(2)  = tensor(0.8808)\n",
            "sigmoid(-1) = tensor(0.2689)\n"
          ]
        }
      ],
      "source": [
        "import numpy as np\n",
        "def sigmoid(z):\n",
        "    '''\n",
        "    Compute the sigmoid of z\n",
        "\n",
        "    Arguments:\n",
        "    z -- A scalar or torch.Tensor of any size.\n",
        "\n",
        "    Return:\n",
        "    s -- torch.Tensor, sigmoid(z)\n",
        "    '''\n",
        "    if not isinstance(z, torch.Tensor):\n",
        "        z = torch.tensor(z, dtype=torch.float)\n",
        "    ############################################################################\n",
        "    # TODO: Implement sigmoid (or called logistic) function                     #\n",
        "    # Slide: ch02 p67                                                         #\n",
        "    ############################################################################\n",
        "    out = 1/(1 + np.exp(-z))\n",
        "    ############################################################################\n",
        "    #                             END OF YOUR CODE                             #\n",
        "    ############################################################################\n",
        "    # prevent out is Inf or -Inf\n",
        "    out = torch.clamp(out, 1e-6, 1-1e-6)\n",
        "    return out\n",
        "\n",
        "s_t1 = sigmoid(0)\n",
        "s_t2 = sigmoid(2)\n",
        "s_t3 = sigmoid(-1)\n",
        "print('sigmoid(0)  =', s_t1)\n",
        "print('sigmoid(2)  =', s_t2)\n",
        "print('sigmoid(-1) =', s_t3)\n",
        "msg = 'Your sigmoid: {} isn\\'t correct'\n",
        "assert (s_t1 - 0.5) < 0.001, msg.format(sigmoid(0))\n",
        "assert (s_t2 - 0.8808) < 0.001, msg.format(sigmoid(2))\n",
        "assert (s_t3 - 0.2689) < 0.001, msg.format(sigmoid(-1))"
      ]
    },
    {
      "cell_type": "markdown",
      "metadata": {
        "id": "LVnUmO0DdwjF"
      },
      "source": [
        "### Loss Function (3 points)"
      ]
    },
    {
      "cell_type": "markdown",
      "metadata": {
        "id": "inIo1GtRdylu"
      },
      "source": [
        "Many machine learning applications use the cross-entropy loss as described in class. This loss can be directly derived from information theoretic considerations, which measures the differences between two probability distributions.\n",
        "In this assignment, we will use the binary cross entropy loss for binary classification.\n",
        "**Slide: ch02 p74**"
      ]
    },
    {
      "cell_type": "code",
      "execution_count": 141,
      "metadata": {
        "id": "sboq4fXhn250",
        "colab": {
          "base_uri": "https://localhost:8080/"
        },
        "outputId": "efa07569-c05c-4e9a-cd23-7d4b5e829580"
      },
      "outputs": [
        {
          "output_type": "stream",
          "name": "stdout",
          "text": [
            "bce(1, 0.5) tensor(0.6931)\n",
            "bce(1, 0.8) tensor(0.2231)\n",
            "bce(1, 0.9) tensor(0.1054)\n"
          ]
        }
      ],
      "source": [
        "def binary_cross_entropy(y_true, y_pred):\n",
        "    '''\n",
        "    Compute the binary cross entropy of inputs.\n",
        "\n",
        "    Arguments:\n",
        "    y_true -- torch.Tensor, True data with shape(n_size).\n",
        "    y_pred -- torch.Tensor, Predicted data with shape(n_size)\n",
        "\n",
        "    Return:\n",
        "    s -- torch.Tensor, binary_cross_entropy(z)\n",
        "    '''\n",
        "    ############################################################################\n",
        "    # TODO: Implement binary cross entropy                                     #\n",
        "    # Slide: ch02 p74                                                        #\n",
        "    ############################################################################\n",
        "    # loss=((-(y_true*torch.log10(input=y_pred)+(1-y_true)*torch.log10(input=(1-y_pred)))).sum())/(y_true.shape[0])\n",
        "    loss=((-(y_true*torch.log(y_pred)+(1-y_true)*torch.log(1-y_pred))).sum())/(y_true.shape[0])\n",
        "    ############################################################################\n",
        "    #                             END OF YOUR CODE                             #\n",
        "    ############################################################################\n",
        "    return loss\n",
        "\n",
        "b_t1 = binary_cross_entropy(torch.tensor([1]), torch.tensor([0.5]))\n",
        "b_t2 = binary_cross_entropy(torch.tensor([1]), torch.tensor([0.8]))\n",
        "b_t3 = binary_cross_entropy(torch.tensor([1]), torch.tensor([0.9]))\n",
        "print('bce(1, 0.5)', b_t1)\n",
        "print('bce(1, 0.8)', b_t2)\n",
        "print('bce(1, 0.9)', b_t3)\n",
        "msg = 'Your bce: {} isn\\'t correct'\n",
        "assert (b_t1 - 0.6931) < 0.001, msg.format(b_t1)\n",
        "assert (b_t2 - 0.2231) < 0.001, msg.format(b_t1)\n",
        "assert (b_t3 - 0.1054) < 0.001, msg.format(b_t1)"
      ]
    },
    {
      "cell_type": "markdown",
      "metadata": {
        "id": "0OswC-h-e1-0"
      },
      "source": [
        "## Logistic Regression Model (4 points)"
      ]
    },
    {
      "cell_type": "markdown",
      "metadata": {
        "id": "uu-Ls8DefPGK"
      },
      "source": [
        "Let's implement the training algorithm!  \n",
        "\n",
        "**Slide: ch02 p106 Training algorithm with mini-batch SGD**\n",
        "\n",
        "```python\n",
        "num_epochs = ... # specify the number of epochs to train initialize parameters w, b\n",
        "for epoch in range(num_epochs):\n",
        "    shuffle training data\n",
        "    for each batch:\n",
        "        forward propagation to get the predictions/outputs\n",
        "        compute loss\n",
        "        backward propagation to get the gradients\n",
        "        update parameters using their gradients\n",
        "```"
      ]
    },
    {
      "cell_type": "markdown",
      "metadata": {
        "id": "cglTIH1NrdIO"
      },
      "source": [
        "You should fill out each methods (init, forward, backward, optimizer...)  \n",
        "Inputs, outputs, format and description is written in docstring `'''doc string there'''`  \n",
        "**You are NOT allowed to remove any assertion.**"
      ]
    },
    {
      "cell_type": "code",
      "execution_count": 223,
      "metadata": {
        "id": "4LOzsSk7n26G"
      },
      "outputs": [],
      "source": [
        "class LogisticRegression:\n",
        "    def __init__(self, lr, feature_dim):\n",
        "        '''\n",
        "        Initialize the learning rate\n",
        "        Initialize the weights and bias to zeros with correct shapes.\n",
        "        Note that w and b should be torch.tensor(...)\n",
        "        The shape of w should be (feature_dim)\n",
        "        The shape of b should be (1)\n",
        "\n",
        "        Arguments:\n",
        "        lr -- float, learning rate (0 < lr <= 1) to control the step of updates.\n",
        "        feature_dim -- int, the number of features.\n",
        "        '''\n",
        "        ########################################################################\n",
        "        #                           Your code there                            #\n",
        "        ########################################################################\n",
        "        self.w = torch.zeros(feature_dim)\n",
        "        self.b = torch.zeros(1)\n",
        "        self.lr = lr\n",
        "        ########################################################################\n",
        "        #                           End of your code                           #\n",
        "        ########################################################################\n",
        "        assert self.w.shape == torch.Size([feature_dim]), 'shape of w is incorrect'\n",
        "        assert self.b.dtype == torch.float, 'dtype of b should be float'\n",
        "\n",
        "        # initialize dw, db to zeros\n",
        "        self.grads = {'dw': torch.zeros(feature_dim, dtype=torch.float),\n",
        "                      'db': torch.tensor(0, dtype=torch.float)}\n",
        "\n",
        "    def forward(self, x):\n",
        "        '''\n",
        "        Compute the predicted probability using the w and b for an given input x.\n",
        "        Store the prediction in self.out, which will be needed in backward pass.\n",
        "\n",
        "        Arguments:\n",
        "        x -- torch.Tensor, input data with shape(n, feature_dim).\n",
        "\n",
        "        Return:\n",
        "        out -- sigmoid(x * w + b)\n",
        "        '''\n",
        "        ########################################################################\n",
        "        #                           Your code there                            #\n",
        "        ########################################################################\n",
        "        z = x@self.w+self.b\n",
        "        out = (sigmoid(z))\n",
        "        ########################################################################\n",
        "        #                           End of your code                           #\n",
        "        ########################################################################\n",
        "        self.out = out\n",
        "        assert (out > 0).all() and (out < 1).all(), 'Output should > 0 and < 1'\n",
        "        assert out.shape == torch.Size([x.shape[0]]), 'Shape of output is incorrect.'\n",
        "        return self.out\n",
        "\n",
        "    def backward(self, x, y_true):\n",
        "        '''\n",
        "        After the forward pass, calculate gradients of w and b (dw and db).\n",
        "        Store dw and db in self.grads.\n",
        "        Ref: Slide ch02 102\n",
        "\n",
        "        Arguments:\n",
        "        x -- torch.Tensor, input data with shape(n,).\n",
        "        y_true -- torch.Tensor, true data with shape(n,).\n",
        "        '''\n",
        "        y_pred = self.out\n",
        "        ########################################################################\n",
        "        #                           Your code there                            #\n",
        "        # Slide: ch02 p102 Gradient descent implementation                     #\n",
        "        ########################################################################\n",
        "        #dw = (1/n)*(transpose of x)*(sigmoid(x@w+b)-y)\n",
        "        #before\n",
        "        #dw = ((x.t()@(y_pred-y_true)))*(1/x.shape[0])\n",
        "        #after\n",
        "        dw = torch.matmul(x.t(), (y_pred - y_true)) / len(x)\n",
        "        #before\n",
        "        #db = (y_pred-y_true).mean()\n",
        "        #after\n",
        "        db = torch.sum(y_pred - y_true) / len(x)\n",
        "        db = db.reshape(1)\n",
        "        ########################################################################\n",
        "        #                           End of your code                           #\n",
        "        ########################################################################\n",
        "\n",
        "        assert dw.shape == self.w.shape, 'Shape of dw is incorrect.'\n",
        "        assert db.shape == self.b.shape, 'Shape of db is incorrect.'\n",
        "\n",
        "        self.grads = {'dw': dw, 'db': db}\n",
        "\n",
        "    def optimize(self):\n",
        "        '''\n",
        "        Implement the mini-batch SGD algorithm.\n",
        "        Use gradients and lr to update the weights and bias.\n",
        "        '''\n",
        "        ########################################################################\n",
        "        #                           Your code there                            #\n",
        "        ########################################################################\n",
        "        self.w-=lr*self.grads['dw']\n",
        "        self.b-=lr*self.grads['db']\n",
        "        ########################################################################\n",
        "        #                           End of your code                           #\n",
        "        ########################################################################\n",
        "\n",
        "    def predict(self, x):\n",
        "        '''\n",
        "        Compute the probability prediction of you model and threshold the\n",
        "        probability output at 0.5 to obtain the label.\n",
        "        hint: you should re-use forward method\n",
        "\n",
        "        Arguments:\n",
        "        x -- torch.Tensor, input data with shape(n, feature_dim).\n",
        "\n",
        "        Return:\n",
        "        out -- sigmoid(x * w + b) > 0.5 with shape(n,)\n",
        "        '''\n",
        "        y_pred = self.out\n",
        "        ########################################################################\n",
        "        #                           Your code there                            #\n",
        "        ########################################################################\n",
        "        threshold=torch.tensor([0.5])\n",
        "        out = (sigmoid(x@self.w+self.b)>threshold).int()*1\n",
        "        ########################################################################\n",
        "        #                           End of your code                           #\n",
        "        ########################################################################\n",
        "        assert out.shape == torch.Size([x.shape[0]]), 'Shape of output is incorrect'\n",
        "        return out"
      ]
    },
    {
      "cell_type": "code",
      "execution_count": 236,
      "metadata": {
        "id": "1RMn82737BAW"
      },
      "outputs": [],
      "source": [
        "################################################################################\n",
        "#                             Hyperparameters                                 #\n",
        "# You can modify these hyperparameters to see how they affect the accuracy    #\n",
        "################################################################################\n",
        "lr = 0.001\n",
        "max_epochs = 200\n",
        "log_interval = 5\n",
        "\n",
        "model = LogisticRegression(lr=lr, feature_dim=X_train.shape[1])\n",
        "\n",
        "train_loss_list = []\n",
        "train_acc_list = []\n",
        "test_loss_list = []\n",
        "test_acc_list = []"
      ]
    },
    {
      "cell_type": "markdown",
      "metadata": {
        "id": "KUzf_a3-aa6F"
      },
      "source": [
        "### Putting everything together (3 points)"
      ]
    },
    {
      "cell_type": "code",
      "execution_count": 237,
      "metadata": {
        "id": "QXzuzR8Xn26N",
        "colab": {
          "base_uri": "https://localhost:8080/"
        },
        "outputId": "45cb9f71-f821-440f-b9d0-e4c322630cb1"
      },
      "outputs": [
        {
          "output_type": "stream",
          "name": "stdout",
          "text": [
            "==================== Epoch 5 ====================\n",
            "Train loss: tensor(0.5235) acc: 0.7775559718681858\n",
            "Test loss:  tensor(0.5137) acc: 0.78263005957865\n",
            "==================== Epoch 10 ====================\n",
            "Train loss: tensor(0.4573) acc: 0.8167746690826448\n",
            "Test loss:  tensor(0.4522) acc: 0.8170874024937044\n",
            "==================== Epoch 15 ====================\n",
            "Train loss: tensor(0.4219) acc: 0.8299192285249225\n",
            "Test loss:  tensor(0.4184) acc: 0.8299244518149991\n",
            "==================== Epoch 20 ====================\n",
            "Train loss: tensor(0.3995) acc: 0.8354166026841927\n",
            "Test loss:  tensor(0.3969) acc: 0.8355752103679135\n",
            "==================== Epoch 25 ====================\n",
            "Train loss: tensor(0.3843) acc: 0.8390098584195818\n",
            "Test loss:  tensor(0.3822) acc: 0.8387076960874639\n",
            "==================== Epoch 30 ====================\n",
            "Train loss: tensor(0.3734) acc: 0.840913976843463\n",
            "Test loss:  tensor(0.3716) acc: 0.8404274921687857\n",
            "==================== Epoch 35 ====================\n",
            "Train loss: tensor(0.3653) acc: 0.842357421455115\n",
            "Test loss:  tensor(0.3638) acc: 0.843252871445243\n",
            "==================== Epoch 40 ====================\n",
            "Train loss: tensor(0.3591) acc: 0.8433094806670557\n",
            "Test loss:  tensor(0.3577) acc: 0.8454026165468952\n",
            "==================== Epoch 45 ====================\n",
            "Train loss: tensor(0.3542) acc: 0.8446915021037438\n",
            "Test loss:  tensor(0.3530) acc: 0.8454026165468952\n",
            "==================== Epoch 50 ====================\n",
            "Train loss: tensor(0.3502) acc: 0.8450293295660453\n",
            "Test loss:  tensor(0.3492) acc: 0.8458939868558443\n",
            "==================== Epoch 55 ====================\n",
            "Train loss: tensor(0.3470) acc: 0.8448450600411536\n",
            "Test loss:  tensor(0.3460) acc: 0.846446778453412\n",
            "==================== Epoch 60 ====================\n",
            "Train loss: tensor(0.3443) acc: 0.8453978686158288\n",
            "Test loss:  tensor(0.3434) acc: 0.8469381487623611\n",
            "==================== Epoch 65 ====================\n",
            "Train loss: tensor(0.3420) acc: 0.8458585424280581\n",
            "Test loss:  tensor(0.3412) acc: 0.8466310423192679\n",
            "==================== Epoch 70 ====================\n",
            "Train loss: tensor(0.3400) acc: 0.8460121003654679\n",
            "Test loss:  tensor(0.3394) acc: 0.8467538848965052\n",
            "==================== Epoch 75 ====================\n",
            "Train loss: tensor(0.3383) acc: 0.8469334479899266\n",
            "Test loss:  tensor(0.3378) acc: 0.8472452552054542\n",
            "==================== Epoch 80 ====================\n",
            "Train loss: tensor(0.3368) acc: 0.84730198703971\n",
            "Test loss:  tensor(0.3364) acc: 0.8473066764940729\n",
            "==================== Epoch 85 ====================\n",
            "Train loss: tensor(0.3355) acc: 0.8472712754522281\n",
            "Test loss:  tensor(0.3351) acc: 0.8472452552054542\n",
            "==================== Epoch 90 ====================\n",
            "Train loss: tensor(0.3344) acc: 0.8475169681520838\n",
            "Test loss:  tensor(0.3340) acc: 0.847613782937166\n",
            "==================== Epoch 95 ====================\n",
            "Train loss: tensor(0.3334) acc: 0.8476398145020116\n",
            "Test loss:  tensor(0.3331) acc: 0.8474909403599288\n",
            "==================== Epoch 100 ====================\n",
            "Train loss: tensor(0.3324) acc: 0.8478240840269033\n",
            "Test loss:  tensor(0.3322) acc: 0.847798046803022\n",
            "==================== Epoch 105 ====================\n",
            "Train loss: tensor(0.3316) acc: 0.8478855072018673\n",
            "Test loss:  tensor(0.3314) acc: 0.847798046803022\n",
            "==================== Epoch 110 ====================\n",
            "Train loss: tensor(0.3308) acc: 0.8482540462516508\n",
            "Test loss:  tensor(0.3307) acc: 0.8479208893802592\n",
            "==================== Epoch 115 ====================\n",
            "Train loss: tensor(0.3301) acc: 0.8485611621264704\n",
            "Test loss:  tensor(0.3301) acc: 0.847613782937166\n",
            "==================== Epoch 120 ====================\n",
            "Train loss: tensor(0.3295) acc: 0.848776143238844\n",
            "Test loss:  tensor(0.3295) acc: 0.8476752042257847\n",
            "==================== Epoch 125 ====================\n",
            "Train loss: tensor(0.3289) acc: 0.8489911243512177\n",
            "Test loss:  tensor(0.3290) acc: 0.8477366255144033\n",
            "==================== Epoch 130 ====================\n",
            "Train loss: tensor(0.3283) acc: 0.8490218359386996\n",
            "Test loss:  tensor(0.3285) acc: 0.8481051532461151\n",
            "==================== Epoch 135 ====================\n",
            "Train loss: tensor(0.3278) acc: 0.8494210865759652\n",
            "Test loss:  tensor(0.3280) acc: 0.8480437319574965\n",
            "==================== Epoch 140 ====================\n",
            "Train loss: tensor(0.3274) acc: 0.849482509750929\n",
            "Test loss:  tensor(0.3276) acc: 0.8480437319574965\n",
            "==================== Epoch 145 ====================\n",
            "Train loss: tensor(0.3269) acc: 0.8495746445133749\n",
            "Test loss:  tensor(0.3272) acc: 0.8486579448436828\n",
            "==================== Epoch 150 ====================\n",
            "Train loss: tensor(0.3265) acc: 0.8496053561008569\n",
            "Test loss:  tensor(0.3268) acc: 0.8490878938640133\n",
            "==================== Epoch 155 ====================\n",
            "Train loss: tensor(0.3261) acc: 0.8497896256257486\n",
            "Test loss:  tensor(0.3265) acc: 0.8491493151526319\n",
            "==================== Epoch 160 ====================\n",
            "Train loss: tensor(0.3258) acc: 0.8498203372132306\n",
            "Test loss:  tensor(0.3262) acc: 0.8492721577298692\n",
            "==================== Epoch 165 ====================\n",
            "Train loss: tensor(0.3255) acc: 0.8499124719756764\n",
            "Test loss:  tensor(0.3259) acc: 0.8493335790184878\n",
            "==================== Epoch 170 ====================\n",
            "Train loss: tensor(0.3251) acc: 0.8500660299130862\n",
            "Test loss:  tensor(0.3256) acc: 0.8494564215957251\n",
            "==================== Epoch 175 ====================\n",
            "Train loss: tensor(0.3248) acc: 0.8502810110254599\n",
            "Test loss:  tensor(0.3253) acc: 0.8495792641729624\n",
            "==================== Epoch 180 ====================\n",
            "Train loss: tensor(0.3245) acc: 0.8502810110254599\n",
            "Test loss:  tensor(0.3251) acc: 0.8495178428843437\n",
            "==================== Epoch 185 ====================\n",
            "Train loss: tensor(0.3243) acc: 0.8504652805503516\n",
            "Test loss:  tensor(0.3249) acc: 0.8498249493274369\n",
            "==================== Epoch 190 ====================\n",
            "Train loss: tensor(0.3240) acc: 0.8504959921378336\n",
            "Test loss:  tensor(0.3247) acc: 0.8498863706160555\n",
            "==================== Epoch 195 ====================\n",
            "Train loss: tensor(0.3238) acc: 0.8506802616627254\n",
            "Test loss:  tensor(0.3244) acc: 0.8498249493274369\n",
            "==================== Epoch 200 ====================\n",
            "Train loss: tensor(0.3235) acc: 0.8509873775375449\n",
            "Test loss:  tensor(0.3243) acc: 0.8498863706160555\n"
          ]
        }
      ],
      "source": [
        "from sklearn.metrics import accuracy_score\n",
        "\n",
        "for epoch in range(1, max_epochs + 1):\n",
        "    idxs = torch.randperm(X_train_batch.shape[0]) # make rand idx\n",
        "    data_loader = ((X_train_batch[i], Y_train_batch[i]) for i in idxs)\n",
        "\n",
        "    loss_list = [] # save train_loss\n",
        "    for i, (x, y) in enumerate(data_loader):\n",
        "        ########################################################################\n",
        "        # TODO: Combine all the functions together                             #\n",
        "        ########################################################################\n",
        "        # hints:\n",
        "        # 1. get output from forward method, call forward()\n",
        "        # 2. calculate loss using binary_cross_entropy()\n",
        "        # 3. using backward method to calculate dw, db, call backward()\n",
        "        # 4. apply SGD optimize to update model's weights, call optimize()\n",
        "        out = model.forward(x)\n",
        "        #def binary_cross_entropy(y_true,y_pred)\n",
        "        loss = binary_cross_entropy(y, out)\n",
        "        #def backward(self, x, y_true)\n",
        "        model.backward(x,y)\n",
        "        model.optimize()\n",
        "        ########################################################################\n",
        "        #                         END OF YOUR CODE                             #\n",
        "        ########################################################################\n",
        "\n",
        "        loss_list.append(loss)\n",
        "\n",
        "    train_loss_list.append(sum(loss_list) / len(loss_list))\n",
        "    train_acc_list.append(accuracy_score(Y_train, model.predict(X_train.float())))\n",
        "    test_loss_list.append(binary_cross_entropy(Y_test, model.forward(X_test.float())))\n",
        "    test_acc_list.append(accuracy_score(Y_test, model.predict(X_test.float())))\n",
        "    if epoch % log_interval == 0:\n",
        "        print('=' * 20, 'Epoch', epoch, '=' * 20)\n",
        "        print('Train loss:', train_loss_list[-1], 'acc:', train_acc_list[-1])\n",
        "        print('Test loss: ', test_loss_list[-1], 'acc:', test_acc_list[-1])"
      ]
    },
    {
      "cell_type": "code",
      "execution_count": 238,
      "metadata": {
        "id": "ZrC0_PiyMgfW",
        "colab": {
          "base_uri": "https://localhost:8080/",
          "height": 765
        },
        "outputId": "e43b8a2c-0751-490d-8841-988c7f412d4b"
      },
      "outputs": [
        {
          "output_type": "display_data",
          "data": {
            "text/plain": [
              "<Figure size 1200x400 with 1 Axes>"
            ],
            "image/png": "[encoded data removed]"
          },
          "metadata": {}
        },
        {
          "output_type": "display_data",
          "data": {
            "text/plain": [
              "<Figure size 1200x400 with 1 Axes>"
            ],
            "image/png": "[encoded data removed]"
          },
          "metadata": {}
        }
      ],
      "source": [
        "# plot loss and acc\n",
        "import matplotlib.pyplot as plt\n",
        "\n",
        "plt.figure(figsize=(12, 4))\n",
        "plt.plot(range(len(train_loss_list)), train_loss_list)\n",
        "plt.plot(range(len(test_loss_list)), test_loss_list, c='r')\n",
        "plt.legend(['train', 'test'])\n",
        "plt.title('Loss')\n",
        "plt.show()\n",
        "plt.figure(figsize=(12, 4))\n",
        "plt.plot(range(len(train_acc_list)), train_acc_list)\n",
        "plt.plot(range(len(test_acc_list)), test_acc_list, c='r')\n",
        "plt.legend(['train', 'test'])\n",
        "plt.title('Acc')\n",
        "plt.show()"
      ]
    },
    {
      "cell_type": "markdown",
      "metadata": {
        "id": "Hnuy34aKoc2f"
      },
      "source": [
        "Congratulations! You've made it."
      ]
    },
    {
      "cell_type": "markdown",
      "metadata": {
        "id": "kgIWwcZIn263"
      },
      "source": [
        "# Implement Logsitic Regression Using PyTorch nn.Module APIs"
      ]
    },
    {
      "cell_type": "markdown",
      "metadata": {
        "id": "-2fKjMvVkPWo"
      },
      "source": [
        "Now, let's learn to use PyTorch APIs with a few lines to implement a logistic regression model."
      ]
    },
    {
      "cell_type": "code",
      "execution_count": 242,
      "metadata": {
        "id": "nuzoiHyan264"
      },
      "outputs": [],
      "source": [
        "import torch\n",
        "from torch import nn\n",
        "import torch.nn.functional as F"
      ]
    },
    {
      "cell_type": "markdown",
      "metadata": {
        "id": "s6SNWep2zNmF"
      },
      "source": [
        "Let's start with the PyTorch Dataset.  \n",
        "You may notice that there are the dataset and the data_loader classes.\n",
        "The Dataset handles the whole dataset.\n",
        "The Dataloader provides batching, shuffling and many more utility functions about Dataset.  \n",
        "We will dicuss more about it later.\n",
        "\n",
        "Use `TensorDataset` and `DataLoader` from `torch.utils.data`."
      ]
    },
    {
      "cell_type": "code",
      "execution_count": 243,
      "metadata": {
        "id": "Vlv-ziS2g94b"
      },
      "outputs": [],
      "source": [
        "from torch.utils.data import TensorDataset, DataLoader\n",
        "\n",
        "train_dataset = TensorDataset(X_train, Y_train.unsqueeze(dim=1).float())\n",
        "test_dataset = TensorDataset(X_test, Y_test.unsqueeze(dim=1).float())\n",
        "train_data = DataLoader(train_dataset, batch_size=128, shuffle=True)\n",
        "test_data = DataLoader(test_dataset, batch_size=128, shuffle=False)"
      ]
    },
    {
      "cell_type": "markdown",
      "metadata": {
        "id": "5COtAwHQ0p3a"
      },
      "source": [
        "PyTorch provides very convenient ways to construct a model.\n",
        "1. All models should inherit `nn.Module`.  \n",
        "2. In `__init__` method, remember to call `super().__init__()` and define the network layers.  \n",
        "3. In `forward()` method, use the defined layers to build a network model.\n",
        "\n",
        "PyTorch will use [autograd mechanic](https://pytorch.org/tutorials/beginner/blitz/autograd_tutorial.html) to generate `backward()` and get gradients **automatically**. So, we don't need to worry about the gradient computation."
      ]
    },
    {
      "cell_type": "markdown",
      "metadata": {
        "id": "BnGYWc25blAF"
      },
      "source": [
        "### Define a logistic regression using nn.Module (3 points)"
      ]
    },
    {
      "cell_type": "code",
      "execution_count": 293,
      "metadata": {
        "id": "sk5puwUJn27F"
      },
      "outputs": [],
      "source": [
        "class TorchLogisticRegression(nn.Module):\n",
        "    def __init__(self, feature_dim):\n",
        "        '''\n",
        "        Initiate weights and bias of our model.\n",
        "\n",
        "        Arguments:\n",
        "        feature_dim -- int, How many features your data have.\n",
        "        '''\n",
        "        super().__init__()\n",
        "        # init the weight AND bias by nn.Linear\n",
        "        ########################################################################\n",
        "        # TODO: use nn.xxx method to generate a linear model part              #\n",
        "        #   you can define one layer with wieght and bias                      #\n",
        "        ########################################################################\n",
        "        self.linear = torch.nn.Linear(feature_dim,1)\n",
        "        self.sigmoid = torch.nn.Sigmoid()\n",
        "        ########################################################################\n",
        "        #                           End of your code                           #\n",
        "        ########################################################################\n",
        "\n",
        "    def forward(self, x):\n",
        "        if not isinstance(x, torch.Tensor):\n",
        "            x = torch.Tensor(x)\n",
        "        ########################################################################\n",
        "        # TODO: forward your model and get output                              #\n",
        "        #   Don't forget activation function. But, you can't use previous      #\n",
        "        #   defined sigmoid, try to search in PyTorch docs                     #\n",
        "        ########################################################################\n",
        "        out = self.linear(x)\n",
        "        out = self.sigmoid(out)\n",
        "        assert out.shape == torch.Size([x.shape[0], 1]), 'Shape of output is incorrect'\n",
        "        ########################################################################\n",
        "        #                           End of your code                           #\n",
        "        ########################################################################\n",
        "        return out"
      ]
    },
    {
      "cell_type": "markdown",
      "metadata": {
        "id": "83imqLRQ0v7M"
      },
      "source": [
        "Once the model is defined, we can proceed to define the loss (e.g., binary cross entropy) and optimizer (e.g., SGD).\n",
        "\n",
        "* [Pedefined losses](https://pytorch.org/docs/stable/nn.html)\n",
        "* [Optimizers](https://pytorch.org/docs/stable/optim.html)\n",
        "\n",
        "Also, learn the difference between nn.BCELoss and nn.BCEWithLogitsLoss."
      ]
    },
    {
      "cell_type": "markdown",
      "metadata": {
        "id": "FtOkPO6Ga0Fw"
      },
      "source": [
        "### Define loss and optimizer (3 points)"
      ]
    },
    {
      "cell_type": "code",
      "execution_count": 294,
      "metadata": {
        "id": "4yIRtfYan27M"
      },
      "outputs": [],
      "source": [
        "# 106 features in our income dataset\n",
        "torch_model = TorchLogisticRegression(X_train.shape[1])\n",
        "\n",
        "########################################################################\n",
        "# TODO: Define loss and optmizer functions                             #\n",
        "#   please use Binary Cross Entropy and SGD optimizer                  #\n",
        "# hint: torch.nn and torch.optim                                       #\n",
        "########################################################################\n",
        "criterion = torch.nn.BCELoss() # define the loss\n",
        "params = torch_model.parameters() # call a method of model to get parameters\n",
        "optimizer = torch.optim.SGD(params,lr=0.001) # throw param into optimizer some_optimier(param, lr=...)\n",
        "########################################################################\n",
        "#                           End of your code                           #\n",
        "########################################################################"
      ]
    },
    {
      "cell_type": "markdown",
      "metadata": {
        "id": "zle9KuFcbwMP"
      },
      "source": [
        "### Train the model (3 points)"
      ]
    },
    {
      "cell_type": "markdown",
      "metadata": {
        "id": "bZFxE7Y9iLfl"
      },
      "source": [
        "Let's define train function.  \n",
        "It will iterate the inputed data 1 epoch and update model with optmizer.  \n",
        "Finally, calculate mean loss and total accuracy."
      ]
    },
    {
      "cell_type": "code",
      "execution_count": 295,
      "metadata": {
        "id": "VM93brDshO6E"
      },
      "outputs": [],
      "source": [
        "def train(data, model, criterion, optimizer):\n",
        "    '''\n",
        "    Argement:\n",
        "    data -- iterable data, typr torch.utils.data.Dataloader is prefer\n",
        "    model -- nn.Module, model contain forward to predict output\n",
        "    criterion -- loss function, used to evaluate goodness of model\n",
        "    optimizer -- optmizer function, method for weight updating\n",
        "    '''\n",
        "    model.train()\n",
        "\n",
        "    loss_list = []\n",
        "    total_count = 0\n",
        "    acc_count = 0\n",
        "    for x, y in data:\n",
        "        optimizer.zero_grad()\n",
        "\n",
        "        ########################################################################\n",
        "        # Training part with data, model, criterion and optimizer              #\n",
        "        ########################################################################\n",
        "        # Like the training part we implemented above, but a PyTorch version\n",
        "        # 1. get the output from the model, use model()\n",
        "        # 2. calculate the loss using criterion(y_pred, y_true)\n",
        "        # 3. backward method of loss to calculate gradient\n",
        "        # 4. call the optimizer to update model's weights\n",
        "        out = model(x)\n",
        "        loss = criterion(out, y)\n",
        "        loss.backward()\n",
        "        optimizer.step()\n",
        "        ########################################################################\n",
        "        #                           End of your code                           #\n",
        "        ########################################################################\n",
        "\n",
        "        total_count += out.shape[0]\n",
        "        acc_count += ((out > 0.5) == y).sum().item()\n",
        "        loss_list.append(loss.item())\n",
        "    acc = acc_count / total_count\n",
        "    loss = sum(loss_list) / len(loss_list)\n",
        "    return acc, loss"
      ]
    },
    {
      "cell_type": "markdown",
      "metadata": {
        "id": "KmDy1GTq_H2a"
      },
      "source": [
        "Next, we write the test function that works similarly as the training function but without the optmizer and weigght-updating parts."
      ]
    },
    {
      "cell_type": "code",
      "execution_count": 296,
      "metadata": {
        "id": "USzbBgGEoTRu"
      },
      "outputs": [],
      "source": [
        "def test(data, model, criterion):\n",
        "    model.eval()\n",
        "\n",
        "    loss_list = []\n",
        "    total_count = 0\n",
        "    acc_count = 0\n",
        "    with torch.no_grad():\n",
        "        for x, y in data:\n",
        "            ####################################################################\n",
        "            # Testing part with data, model and criterion                      #\n",
        "            ####################################################################\n",
        "            # Like training part without weight updating\n",
        "            # 1. get output from model, use model()\n",
        "            # 2. calculate loss using criterion(y_pred, y_true)\n",
        "            out = model(x)\n",
        "            loss = criterion(out, y)\n",
        "            ####################################################################\n",
        "            #                           End of your code                       #\n",
        "            ####################################################################\n",
        "\n",
        "            total_count += out.shape[0]\n",
        "            acc_count += ((out > 0.5) == y).sum().item()\n",
        "            loss_list.append(loss.item())\n",
        "\n",
        "    acc = acc_count / total_count\n",
        "    loss = sum(loss_list) / len(loss_list)\n",
        "    return acc, loss"
      ]
    },
    {
      "cell_type": "markdown",
      "metadata": {
        "id": "knXu74jCiuxP"
      },
      "source": [
        "Finally, call the train and test functions in a loop. We also record the training/test losses and accuracies during the course of training."
      ]
    },
    {
      "cell_type": "code",
      "execution_count": 297,
      "metadata": {
        "id": "rcVulKkFJRtI",
        "colab": {
          "base_uri": "https://localhost:8080/"
        },
        "outputId": "a57fb961-26e7-4db6-c35a-aef84d850897"
      },
      "outputs": [
        {
          "output_type": "stream",
          "name": "stdout",
          "text": [
            "==================== Epoch 5 ====================\n",
            "Train Acc: 0.749486 Train Loss: 0.537540\n",
            "Test Acc: 0.754008 Test Loss: 0.526872\n",
            "==================== Epoch 10 ====================\n",
            "Train Acc: 0.792420 Train Loss: 0.465676\n",
            "Test Acc: 0.796020 Test Loss: 0.459520\n",
            "==================== Epoch 15 ====================\n",
            "Train Acc: 0.820921 Train Loss: 0.426483\n",
            "Test Acc: 0.823721 Test Loss: 0.422164\n",
            "==================== Epoch 20 ====================\n",
            "Train Acc: 0.832837 Train Loss: 0.401872\n",
            "Test Acc: 0.833733 Test Loss: 0.398564\n",
            "==================== Epoch 25 ====================\n",
            "Train Acc: 0.837136 Train Loss: 0.385292\n",
            "Test Acc: 0.838032 Test Loss: 0.382667\n",
            "==================== Epoch 30 ====================\n",
            "Train Acc: 0.839624 Train Loss: 0.373593\n",
            "Test Acc: 0.840735 Test Loss: 0.371413\n",
            "==================== Epoch 35 ====================\n",
            "Train Acc: 0.841344 Train Loss: 0.364907\n",
            "Test Acc: 0.843007 Test Loss: 0.363149\n",
            "==================== Epoch 40 ====================\n",
            "Train Acc: 0.842787 Train Loss: 0.358527\n",
            "Test Acc: 0.844236 Test Loss: 0.356883\n",
            "==================== Epoch 45 ====================\n",
            "Train Acc: 0.844139 Train Loss: 0.353489\n",
            "Test Acc: 0.845280 Test Loss: 0.352003\n",
            "==================== Epoch 50 ====================\n",
            "Train Acc: 0.845060 Train Loss: 0.349379\n",
            "Test Acc: 0.846877 Test Loss: 0.348109\n"
          ]
        }
      ],
      "source": [
        "# Hyper Parameters\n",
        "max_epochs = 50\n",
        "log_interval = 5\n",
        "\n",
        "train_acc_list = []\n",
        "train_loss_list = []\n",
        "test_acc_list = []\n",
        "test_loss_list = []\n",
        "\n",
        "for epoch in range(1, max_epochs + 1):\n",
        "    train_acc, train_loss = train(train_data, torch_model, criterion, optimizer)\n",
        "    test_acc, test_loss = test(test_data, torch_model, criterion)\n",
        "\n",
        "    train_acc_list.append(train_acc)\n",
        "    train_loss_list.append(train_loss)\n",
        "    test_acc_list.append(test_acc)\n",
        "    test_loss_list.append(test_loss)\n",
        "    if epoch % log_interval == 0:\n",
        "        print('=' * 20, 'Epoch', epoch, '=' * 20)\n",
        "        print('Train Acc: {:.6f} Train Loss: {:.6f}'.format(train_acc, train_loss))\n",
        "        print('Test Acc: {:.6f} Test Loss: {:.6f}'.format(test_acc, test_loss))"
      ]
    },
    {
      "cell_type": "code",
      "execution_count": 298,
      "metadata": {
        "id": "4ifzgfp7iq2m",
        "colab": {
          "base_uri": "https://localhost:8080/",
          "height": 765
        },
        "outputId": "66a94822-b20a-4e42-8592-0a9f1900bb56"
      },
      "outputs": [
        {
          "output_type": "display_data",
          "data": {
            "text/plain": [
              "<Figure size 1200x400 with 1 Axes>"
            ],
            "image/png": "[encoded data removed]"
          },
          "metadata": {}
        },
        {
          "output_type": "display_data",
          "data": {
            "text/plain": [
              "<Figure size 1200x400 with 1 Axes>"
            ],
            "image/png": "[encoded data removed]"
          },
          "metadata": {}
        }
      ],
      "source": [
        "import matplotlib.pyplot as plt\n",
        "\n",
        "plt.figure(figsize=(12, 4))\n",
        "plt.plot(range(len(train_loss_list)), train_loss_list)\n",
        "plt.plot(range(len(test_loss_list)), test_loss_list, c='r')\n",
        "plt.legend(['train', 'test'])\n",
        "plt.title('Loss')\n",
        "plt.show()\n",
        "plt.figure(figsize=(12, 4))\n",
        "plt.plot(range(len(train_acc_list)), train_acc_list)\n",
        "plt.plot(range(len(test_acc_list)), test_acc_list, c='r')\n",
        "plt.legend(['train', 'test'])\n",
        "plt.title('Acc')\n",
        "plt.show()"
      ]
    },
    {
      "cell_type": "code",
      "execution_count": 299,
      "metadata": {
        "id": "_wX87wzXhmYg",
        "colab": {
          "base_uri": "https://localhost:8080/"
        },
        "outputId": "d3d01092-346f-4d4e-d84d-3317d02c9562"
      },
      "outputs": [
        {
          "output_type": "stream",
          "name": "stdout",
          "text": [
            "-------------------- weight --------------------\n",
            "Ours tensor([ 0.3225,  0.0710,  0.2655,  1.0435,  0.2314,  0.3374,  0.1000, -0.0165,\n",
            "        -0.0114,  0.0509,  0.0604, -0.0891, -0.0376, -0.0449, -0.0647, -0.1687,\n",
            "        -0.1642, -0.0624, -0.0961, -0.1174])\n",
            "PyTorch tensor([ 0.2224,  0.0486,  0.1792,  0.4894,  0.1968,  0.2354,  0.0829, -0.0009,\n",
            "        -0.0331,  0.0329,  0.0753, -0.0691, -0.0205, -0.0200, -0.1079, -0.1020,\n",
            "        -0.0820, -0.0335, -0.0469, -0.0831], grad_fn=<SliceBackward0>)\n",
            "-------------------- bias --------------------\n",
            "Ours tensor([-1.8861])\n",
            "PyTorch Parameter containing:\n",
            "tensor([-1.3135], requires_grad=True)\n"
          ]
        }
      ],
      "source": [
        "# Comparison of our model and torch's model\n",
        "print('-' * 20, 'weight' , '-' * 20)\n",
        "print('Ours', model.w[:20])\n",
        "print('PyTorch', torch_model.linear.weight[0][:20])\n",
        "print('-' * 20, 'bias' , '-' * 20)\n",
        "print('Ours', model.b)\n",
        "print('PyTorch', torch_model.linear.bias)"
      ]
    },
    {
      "cell_type": "markdown",
      "metadata": {
        "id": "4XTB6EF6mH2Q"
      },
      "source": [
        "Our own implementation and the implementation using the PyTorch APIs obtain similar weights and biases.  \n",
        "But less effort is needed when using PyTorch APIs!  "
      ]
    }
  ],
  "metadata": {
    "colab": {
      "provenance": [],
      "gpuType": "T4"
    },
    "kernelspec": {
      "display_name": "Python 3",
      "name": "python3"
    },
    "language_info": {
      "codemirror_mode": {
        "name": "ipython",
        "version": 3
      },
      "file_extension": ".py",
      "mimetype": "text/x-python",
      "name": "python",
      "nbconvert_exporter": "python",
      "pygments_lexer": "ipython3",
      "version": "3.9.17"
    },
    "vscode": {
      "interpreter": {
        "hash": "aaa478f9632825e83f6a2247407c7a2930de96a6810af7910643e423346524f9"
      }
    },
    "accelerator": "GPU"
  },
  "nbformat": 4,
  "nbformat_minor": 0
}